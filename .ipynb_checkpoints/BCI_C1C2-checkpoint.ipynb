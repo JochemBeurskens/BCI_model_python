{
 "cells": [
  {
   "cell_type": "markdown",
   "id": "ad4f6e2f",
   "metadata": {},
   "source": [
    "# In this jupyter notebook the inference over the generative model will be made"
   ]
  },
  {
   "cell_type": "code",
   "execution_count": 66,
   "id": "8f59cf14",
   "metadata": {},
   "outputs": [],
   "source": [
    "import random\n",
    "import numpy as np\n",
    "import matplotlib.pyplot as plt\n",
    "\n",
    "def minsearch(x, v):\n",
    "    return np.where(np.abs(x-v) == np.abs(x-v).min())[0]"
   ]
  },
  {
   "cell_type": "markdown",
   "id": "66a29269",
   "metadata": {},
   "source": [
    "For the generative model the reader is refered to the README on the github page (https://github.com/JochemBeurskens/BCI_model_python/blob/main/README.md).\n",
    "Before the inference can be started, data will be generated using the generative model.\n",
    "In the generative model arrays that represent the visual and auditory inputs to the participant are generated. These arrays for the case of seperarate sources is given by:\n",
    "\\begin{equation}\n",
    "\\begin{aligned}\n",
    "     a^{x}_{L_{a}^{x},M_{a}^{x}}(l,t,m) = \\delta(l-L^{x}_{a})\\delta(m-M^{x}_{a}) f^s_a(c^s_{a}(t)) +e_a(l,t,m)\\\\\n",
    "     v^{x}_{L_{v}^{x},M_{v}^{x}}(l,t,m) = \\delta(l-L^{x}_{v})\\delta(m-M^{x}_{v}) f^s_v(c^s_{v}(t)) +e_v(l,t,m)\\\\\n",
    "\\end{aligned}\n",
    "\\end{equation} \n",
    "Note that the equations for a common source are similar, only then the noisy parameters ($L^{x},M^{x}$) will be drawn from anormal that is centred at the audiovisual stimulus, whereas for separate sources they are drawn from a normal distribution centred at either the visual or auditory stimulus.\n",
    "\n",
    "Where the parameters $L^{x}$ and $M^{x}$ are drawn from Gaussians centred about the actual stimulus location and meaning. $f^{s}_{a}$ and $f^{s}_{v}$ are linear mapping functions from the values of the random walk described by the parameter $c$ to the auditory or visual amplitude of the observation."
   ]
  },
  {
   "cell_type": "code",
   "execution_count": 263,
   "id": "ee9bdf42",
   "metadata": {},
   "outputs": [],
   "source": [
    "def gen_mod_C1(k,t_max,l,m,n_r,n_lm,mean_rw,sig_ls,sig_lax,sig_lvx,sig_ms,sig_max,sig_mvx,sig_es,sig_eax,sig_evx):\n",
    "    #firstly the stimuli parameters\n",
    "    c_avs=np.cumsum(sig_es * np.random.randn(t_max))+ mean_rw #documentation states: sigma * np.random.randn(...) + mu for random number\n",
    "    L_avs=sig_ls * np.random.randn(1) #meaning and location are stationary in one trial\n",
    "    M_avs=sig_ms * np.random.randn(1)\n",
    "    #firstly the noisy location, and the associated grid point so that the non-noise point in the delta function can be determined\n",
    "    L_avxa=sig_lax * np.random.randn(t_max)+L_avs\n",
    "    L_avxv=sig_lvx * np.random.randn(t_max)+L_avs\n",
    "    i_lxa = minsearch(L_avxa,l)\n",
    "    i_lxv = minsearch(L_avxv,l)\n",
    "    #next the meaning parameters\n",
    "    M_avxa=sig_max * np.random.randn(t_max)+M_avs\n",
    "    M_avxv=sig_mvx * np.random.randn(t_max)+M_avs\n",
    "    i_mxa = minsearch(M_avxa,m)\n",
    "    i_mxv = minsearch(M_avxv,m)\n",
    "    #Now creating the noisy arrays, in which at the i_l,i_m positions the amplitude of the observation will be added\n",
    "    a_x = sig_eax * np.random.randn(n_lm,n_lm,t_max)\n",
    "    v_x = sig_evx * np.random.randn(n_lm,n_lm,t_max)\n",
    "    a_x[i_lxa,i_mxa]=a_x[i_lxa,i_mxa]+c_avs\n",
    "    v_x[i_lxv,i_mxv]=v_x[i_lxv,i_mxv]+c_avs\n",
    "    return a_x,v_x,c_avs,i_lxa,i_mxa,i_lxv,i_mxv"
   ]
  },
  {
   "cell_type": "code",
   "execution_count": 127,
   "id": "bc8854e6",
   "metadata": {},
   "outputs": [
    {
     "name": "stdout",
     "output_type": "stream",
     "text": [
      "[6] [-20.         -15.55555556 -11.11111111  -6.66666667  -2.22222222\n",
      "   2.22222222   6.66666667  11.11111111  15.55555556  20.        ] [7.90335303]\n"
     ]
    }
   ],
   "source": [
    "L_avxa=sig_lax * np.random.randn(t_max)+c_avs\n",
    "i_lxa = minsearch(L_avxa[0],l)\n",
    "print(i_lxa,l,L_avxa)"
   ]
  },
  {
   "cell_type": "code",
   "execution_count": 264,
   "id": "adf53a31",
   "metadata": {},
   "outputs": [
    {
     "name": "stdout",
     "output_type": "stream",
     "text": [
      "[4.59907726] [4] [3] [4] [2]\n"
     ]
    },
    {
     "data": {
      "image/png": "[encoded data removed]",
      "text/plain": [
       "<Figure size 640x480 with 1 Axes>"
      ]
     },
     "metadata": {},
     "output_type": "display_data"
    },
    {
     "data": {
      "image/png": "[encoded data removed]",
      "text/plain": [
       "<Figure size 640x480 with 1 Axes>"
      ]
     },
     "metadata": {},
     "output_type": "display_data"
    }
   ],
   "source": [
    "#variances for the caxe of C=1\n",
    "sig_ls=2;\n",
    "sig_es=1;\n",
    "sig_ms=1.5;\n",
    "\n",
    "#variances for the caxe of C=2\n",
    "sig_lvs=1;\n",
    "sig_las=5; \n",
    "sig_mas=1;\n",
    "sig_mvs=2;\n",
    "sig_eas=1;\n",
    "sig_evs=1;\n",
    "\n",
    "#variances for the x variables\n",
    "sig_lax=10;\n",
    "sig_lvx=2;\n",
    "sig_eax=1;\n",
    "sig_evx=1;\n",
    "sig_max=1;\n",
    "sig_mvx=1;\n",
    "p_c=0.5; #if x param > p_c: m=1, else m=2\n",
    "p_h=1;\n",
    "\n",
    "#specifying the grid\n",
    "lrange=20\n",
    "mrange=10\n",
    "n_lm=10\n",
    "l=np.linspace(-lrange,lrange,n_lm)\n",
    "m=np.linspace(-mrange,mrange,n_lm)\n",
    "\n",
    "#specifying the gain of the linear function, the maximum time, the starting point of the random walk, and the number of repeats\n",
    "k=1\n",
    "t_max=1\n",
    "n_r=1\n",
    "mean_rw=5\n",
    "\n",
    "[a_x,v_x,c_avs,i_lxa,i_mxa,i_lxv,i_mxv]=gen_mod_C1(k,t_max,l,m,n_r,n_lm,mean_rw,sig_ls,sig_lax,sig_lvx,sig_ms,sig_max,sig_mvx,sig_es,sig_eax,sig_evx)\n",
    "\n",
    "#plotting\n",
    "# fig,ax = plt.subplots(subplot_kw={\"projection\": \"3d\"})\n",
    "plt.figure(1)\n",
    "plt.imshow(a_x[:,:],extent=[-lrange,lrange, mrange,-mrange])\n",
    "plt.figure(2)\n",
    "plt.imshow(v_x[:,:],extent=[-lrange,lrange, mrange,-mrange])\n",
    "\n",
    "print(i_lxa,i_mxa,i_lxv,i_mxv)"
   ]
  },
  {
   "cell_type": "code",
   "execution_count": 42,
   "id": "ce15f615",
   "metadata": {},
   "outputs": [
    {
     "name": "stdout",
     "output_type": "stream",
     "text": [
      "[[[-0.67682077  0.84293763]\n",
      "  [ 0.14165772  1.61176543]\n",
      "  [-0.89019298 -0.96146707]\n",
      "  [ 1.36600131 -0.59908365]\n",
      "  [ 2.21052952 -0.49921869]\n",
      "  [-0.84829043  2.22114433]]\n",
      "\n",
      " [[-0.10733669 -0.69409145]\n",
      "  [-1.80119648  0.71439351]\n",
      "  [-1.12559788  0.51288381]\n",
      "  [ 0.05303163  0.00267174]\n",
      "  [ 1.48809249 -0.44773305]\n",
      "  [ 0.59688729 -1.72382375]]\n",
      "\n",
      " [[-1.73197806 -1.89769624]\n",
      "  [-0.27531537  2.20699695]\n",
      "  [ 0.99153297  1.00850401]\n",
      "  [-1.60940461 -2.35028459]\n",
      "  [-0.34935494 -0.48933929]\n",
      "  [ 0.04050592 -0.53355521]]\n",
      "\n",
      " [[-0.48210106 -1.4085913 ]\n",
      "  [ 0.20248925 -0.68951564]\n",
      "  [ 1.71188973  0.34932074]\n",
      "  [ 0.097549   -1.11492262]\n",
      "  [-0.05749035 -0.3690986 ]\n",
      "  [-1.03396232 -1.56994807]]\n",
      "\n",
      " [[ 0.48442788  0.58586312]\n",
      "  [-1.42852683  0.81247913]\n",
      "  [-0.39129933  1.01280572]\n",
      "  [ 1.61541587 -0.54224885]\n",
      "  [-1.30829379 -0.59418428]\n",
      "  [-1.36463157  1.67901454]]\n",
      "\n",
      " [[ 0.30624075 -1.44563273]\n",
      "  [-1.69110537 -1.38021905]\n",
      "  [-1.88144539 -0.9613448 ]\n",
      "  [ 0.19565851 -1.47581437]\n",
      "  [-1.06632239  0.61068655]\n",
      "  [ 0.18155191  0.75221348]]]\n",
      "[[-0.10733669 -0.69409145]\n",
      " [-1.80119648  0.71439351]\n",
      " [-1.12559788  0.51288381]\n",
      " [ 0.05303163  0.00267174]\n",
      " [ 1.48809249 -0.44773305]\n",
      " [ 0.59688729 -1.72382375]]\n"
     ]
    }
   ],
   "source": [
    "print(a_x)\n",
    "print(a_x[1,:,:])"
   ]
  },
  {
   "cell_type": "markdown",
   "id": "d0736d46",
   "metadata": {},
   "source": [
    "## The case of seperable sourcer (C=2 in the generative model)"
   ]
  },
  {
   "cell_type": "markdown",
   "id": "26e60aec",
   "metadata": {},
   "source": [
    "The prior in this case if given by:\n",
    "\\begin{equation}\n",
    "\\begin{aligned}\n",
    "     P(L_{a}^{s}|C=2)= \\mathcal{N}(\\mu_{La},\\sigma_{Las}^{2}), P(L_{v}^{s}|C=2)= \\mathcal{N}(\\mu_{Lv},\\sigma_{Lvs}^{2}),\\\\ P(M_{a}^{s}|C=2)= \\mathcal{N}(\\mu_{Ma},\\sigma_{Mas}^{2}), P(M_{v}^{s}|C=2)= \\mathcal{N}(\\mu_{Mv},\\sigma_{Mvs}^{2})\\\\ P(c_{a}^{s}|C=2)= \\mathcal{N}(\\mu_{c_{a}},\\sigma_{cas}^{2}), P(c_{v}^{s}(t)|C=2)= \\mathcal{N}(\\mu_{c_{v}},\\sigma_{cvs}^{2})\n",
    "\\end{aligned}\n",
    "\\end{equation} \n",
    "\n",
    "The Likelihood of the stimuli given the observations is given by:\n",
    "\\begin{equation}\n",
    "\\begin{aligned}\n",
    "     \\mathcal{L}(L^{s}_{a},M^{s}_{a},c^{s}_{a},L^{s}_{v},M^{s}_{v},c^{s}_{v},C=2|a^{x}_{L^{x}_{a},M^{x}_{a}},v^{x}_{L^{x}_{v},M^{x}_{v}})=P({a^{x}_{L^{x}_{a},M^{x}_{a}},v^{x}_{L^{x}_{v},M^{x}_{v}}} | L^{s}_{a},M^{s}_{a},c^{s}_{a},L^{s}_{v},M^{s}_{v},c^{s}_{v},C=2)\n",
    "     = \\\\\\int_{-\\infty}^{\\infty} \\int_{-\\infty}^{\\infty}\\int_{-\\infty}^{\\infty} \\int_{-\\infty}^{\\infty}\n",
    "     dL^{x}_{a} dM^{x}_{a} \n",
    "     dL^{x}_{v} dM^{x}_{v}\n",
    "     P(L^{x}_{a} | L^{s}_{a},C=2) \n",
    "     P(M^{x}_{a} | M^{s}_{a},C=2)  P(L^{x}_{v} | L^{s}_{v},C=2) \n",
    "     P(M^{x}_{v} | M^{s}_{v},C=2) \\\\ P({a^{x}_{L^{x}_{a},M^{x}_{a}},v^{x}_{L^{x}_{v},M^{x}_{v}}} | L^{x}_{a},M^{x}_{a},c^{x}_{a},L^{x}_{v},M^{x}_{v},c^{x}_{v},C=2) =\\\\\n",
    "(l_{a},m_{a});\\delta(l_{a}-L^{x}_{a})\\delta(m_{a}-M^{x}_{a}) f^s_a(c^s),\\sigma^2_a)\\\\ \\prod_{l_{v}=1}^{n}\\prod_{m_{v}=1}^{n_m} N (v^{x}_{L^{x}_{v},M^{x}_{v}}(l_{v},m_{v});\\delta(l_{v}-L^{x}_{v})\\delta(m_{v}-M^{x}_{v}) f^s_a(c^s),\\sigma^2_v)\\\\\n",
    "     = \\sum_{L^{x}_{a}} \\sum_{M^{x}_{a}} \n",
    "     P(L^{x}_{a} | L^{s}_{a},C=2) \n",
    "     P(M^{x}_{a} | M^{s}_{a},C=2)  \\prod_{l_{a}=1}^{n}\\prod_{m_{a}=1}^{n_m}N (a^{x}_{L^{x}_{a},M^{x}_{a}}(l,m);\\delta(l_{a}-L^{x}_{a})\\delta(m_{a}-M^{x}_{a}) f^s_a(c^s),\\sigma^2_a)\\\\ \\sum_{L^{x}_{v}} \\sum_{M^{x}_{v}} P(L^{x}_{v} | L^{s}_{v},C=2) \n",
    "     P(M^{x}_{v} | M^{s}_{v},C=2)  \\prod_{l_{v}=1}^{n}\\prod_{m_{v}=1}^{n_m} N (v^{x}_{L^{x}_{v},M^{x}_{v}}(l_{v},m_{v});\\delta(l_{v}-L^{x}_{v})\\delta(m_{v}-M^{x}_{v}) f^s_a(c^s),\\sigma^2_v)\n",
    "\\end{aligned}\n",
    "\\end{equation}\n",
    "\n",
    "Together the prior and Likelihood give the information that is needed for the posterior:\n",
    "\\begin{equation}\n",
    "\\begin{aligned}  \n",
    "    P({C=2|a^{x}_{L^{x}_{a},M^{x}_{a}},v^{x}_{L^{x}_{v},M^{x}_{v}}})=\n",
    "    \\\\ P(C=2)\\cdot \\int \\int \\int P({a^{x}_{L^{x}_{a},M^{x}_{a}}} | L^{s}_{a}, M^{s}_{a}, c^{s}_{a}, C=2)\\cdot P( L^{s}_{a}|C=2) P(M^{s}_{a}|C=2) P(c^{s}_{a}|C=2) dL_{a}^{s} dM_{a}^{s} dc_{a}^{s} \\\\ \\int \\int \\int P(v^{x}_{L^{x}_{v},M^{x}_{v}}| L^{s}_{v}, M^{s}_{v}, c^{s}_{v},C=2) P( L^{s}_{v}|C=2) P(M^{s}_{v}|C=2) P(c^{s}_{v}|C=2) dL_{v}^{s} dM_{v}^{s} dc_{v}^{s}\\cdot \\frac{1}{P({a^{x}_{L^{x}_{a},M^{x}_{a}},v^{x}_{L^{x}_{v},M^{x}_{v}}})} \\\\\n",
    "    % P({C=2|a^{x}_{L^{x}_{a},M^{x}_{a}},v^{x}_{L^{x}_{v},M^{x}_{v}}})= \n",
    "    % \\\\ \\int \\int \\int \\int \\int \\int P({L^{s}_{a}, M^{s}_{a}, c^{s}_{a}, L^{s}_{v}, M^{s}_{v}, c^{s}_{v},C=2|a^{x}_{L^{x}_{a},M^{x}_{a}},v^{x}_{L^{x}_{v},M^{x}_{v}}})dL_{v}^{s} dM_{v}^{s} dc_{v}^{s} dL_{a}^{s} dM_{a}^{s} dc_{a}^{s} \n",
    "    % \\textnormal{For the case of C=1:} \\\\\n",
    "    % P(C=1|a^{x},v^{x})\\propto P(C=1) \\cdot P(a^{x}|C=1)\\cdot P(v^{x}|C=1)=P(C=1) \\cdot \\\\ \\int \\int  P(C=1,L_{av}^{s},M_{av}^{s}|a^{x};v^{x}) \\cdot \n",
    "    %  P(L_{av}^{s}|C=1) P(M_{av}^{s}|C=1) dL_{av}^{s} dM_{av}^{s} \\\\\n",
    "    % \\textnormal{For the case of C=2:} \\\\\n",
    "    % P(C=2|a^{x},v^{x})\\propto P(C=2) \\cdot P(a^{x}|C=2)\\cdot P(v^{x}|C=2)=P(C=2) \\cdot \\\\ \\int \\int \\int \\int P(C=2,L_{a}^{s},M_{a}^{s},L_{v}^{s},M_{v}^{s}|a^{x};v^{x}) \\cdot  P(L_{a}^{s}|C=2) \\cdot P(M_{a}^{s}|C=2) \\cdot  \\\\\n",
    "    % P(v^{x}|C=2,L_{v}^{s},M_{v}^{s},c_{v}^{s}) P(L_{v}^{s}|C=2) P(M_{v}^{s}|C=2) dL_{v}^{s} dM_{v}^{s} dL_{a}^{s} dM_{a}^{s} \\\\\n",
    "\\end{aligned}\n",
    "\\end{equation}\n",
    "\n",
    "The integrals that are needed to calculate the posterior cannot be solved analytically, therefore numerical methods are used."
   ]
  },
  {
   "cell_type": "code",
   "execution_count": null,
   "id": "5ea32ab8",
   "metadata": {},
   "outputs": [],
   "source": []
  }
 ],
 "metadata": {
  "kernelspec": {
   "display_name": "Python 3 (ipykernel)",
   "language": "python",
   "name": "python3"
  },
  "language_info": {
   "codemirror_mode": {
    "name": "ipython",
    "version": 3
   },
   "file_extension": ".py",
   "mimetype": "text/x-python",
   "name": "python",
   "nbconvert_exporter": "python",
   "pygments_lexer": "ipython3",
   "version": "3.10.9"
  }
 },
 "nbformat": 4,
 "nbformat_minor": 5
}
