{
 "cells": [
  {
   "cell_type": "markdown",
   "id": "ad4f6e2f",
   "metadata": {},
   "source": [
    "# In this jupyter notebook the inference over the generative model will be made"
   ]
  },
  {
   "cell_type": "code",
   "execution_count": 68,
   "id": "8f59cf14",
   "metadata": {},
   "outputs": [
    {
     "name": "stdout",
     "output_type": "stream",
     "text": [
      "[3.06438388 3.24273771 3.5035073  4.85673018 6.0869893  5.85962079\n",
      " 5.14974514 5.22189483 5.98002355 7.13434722 8.51102158]\n",
      "[ 6.90806905  3.4226492   5.88629186  9.67556175  9.22137269 11.48636621\n",
      "  4.58532596  8.23624945 10.69599024  2.50458581 11.59287092]\n",
      "[0.17991149]\n"
     ]
    }
   ],
   "source": [
    "import random\n",
    "import numpy as np\n",
    "import matplotlib.pyplot as plt\n",
    "# c_avs=np.random.randn()\n",
    "c=np.cumsum(1 * np.random.randn(11))+3\n",
    "print(c)\n",
    "L=3 * np.random.randn(11)+c\n",
    "print(L)\n",
    "def minsearch(x, v):\n",
    "    return np.where(np.abs(x-v) == np.abs(x-v).min())[0]\n",
    "# print((np.abs(c-L) == np.abs(c-L)),dsearchn(c,L),np.abs(c-L))\n",
    "print(np.abs(c-L)[dsearchn(c,L)])"
   ]
  },
  {
   "cell_type": "markdown",
   "id": "66a29269",
   "metadata": {},
   "source": [
    "For the generative model the reader is refered to the README on the github page (https://github.com/JochemBeurskens/BCI_model_python/blob/main/README.md)\n",
    "Before the inference can be started, data will be generated using the generative model."
   ]
  },
  {
   "cell_type": "code",
   "execution_count": 50,
   "id": "ee9bdf42",
   "metadata": {},
   "outputs": [],
   "source": [
    "def gen_mod(k,t_max,l,m,n_r,n_lm,mean_rw,sig_ls,sig_lvx,sig_lax,sig_ms,sig_max,sig_mvx,sig_es,sig_eax,sig_evx):\n",
    "    #firstly the stimuli parameters\n",
    "    c_avs=cumsum(sig_es * np.random.randn(t_max))+ mean_rw #documentation states: sigma * np.random.randn(...) + mu for random number\n",
    "    L_avs=sig_ls * np.random.randn(1)\n",
    "    M_avs=sig_ms * np.random.randn(1)\n",
    "    #now we are going to generate the (noisy) values in the grid, thus making the sensory inputs\n",
    "    for i in range(n_lm)\n",
    "        #firstly the noisy location, and the associated grid point so that the non-noise point in the delta function can be determined\n",
    "        L_avxa=sig_lax * np.random.randn(t_max)+c_avs\n",
    "        L_avxv=sig_lvx * np.random.randn(t_max)+c_avs\n",
    "        i_la = #[x for x in fruits if \"a\" in x]\n",
    "        i_lv = #[x for x in fruits if \"a\" in x]"
   ]
  },
  {
   "cell_type": "code",
   "execution_count": 51,
   "id": "adf53a31",
   "metadata": {},
   "outputs": [
    {
     "ename": "TypeError",
     "evalue": "gen_mod() missing 4 required positional arguments: 'sig_mvx', 'sig_es', 'sig_eax', and 'sig_evx'",
     "output_type": "error",
     "traceback": [
      "\u001b[0;31m---------------------------------------------------------------------------\u001b[0m",
      "\u001b[0;31mTypeError\u001b[0m                                 Traceback (most recent call last)",
      "Cell \u001b[0;32mIn[51], line 1\u001b[0m\n\u001b[0;32m----> 1\u001b[0m \u001b[43mgen_mod\u001b[49m\u001b[43m(\u001b[49m\u001b[38;5;241;43m3\u001b[39;49m\u001b[43m,\u001b[49m\u001b[38;5;241;43m2\u001b[39;49m\u001b[43m,\u001b[49m\u001b[38;5;241;43m1\u001b[39;49m\u001b[43m,\u001b[49m\u001b[38;5;241;43m2\u001b[39;49m\u001b[43m,\u001b[49m\u001b[38;5;241;43m3\u001b[39;49m\u001b[43m,\u001b[49m\u001b[38;5;241;43m4\u001b[39;49m\u001b[43m,\u001b[49m\u001b[38;5;241;43m5\u001b[39;49m\u001b[43m,\u001b[49m\u001b[38;5;241;43m5\u001b[39;49m\u001b[43m,\u001b[49m\u001b[38;5;241;43m63\u001b[39;49m\u001b[43m,\u001b[49m\u001b[38;5;241;43m2\u001b[39;49m\u001b[43m,\u001b[49m\u001b[38;5;241;43m1\u001b[39;49m\u001b[43m,\u001b[49m\u001b[38;5;241;43m2\u001b[39;49m\u001b[43m)\u001b[49m\n",
      "\u001b[0;31mTypeError\u001b[0m: gen_mod() missing 4 required positional arguments: 'sig_mvx', 'sig_es', 'sig_eax', and 'sig_evx'"
     ]
    }
   ],
   "source": []
  },
  {
   "cell_type": "markdown",
   "id": "d0736d46",
   "metadata": {},
   "source": [
    "## The case of seperable sourcer (C=2 in the generative model)"
   ]
  },
  {
   "cell_type": "markdown",
   "id": "26e60aec",
   "metadata": {},
   "source": [
    "The prior in this case if given by:\n",
    "\\begin{equation}\n",
    "\\begin{aligned}\n",
    "     P(L_{a}^{s}|C=2)= \\mathcal{N}(\\mu_{La},\\sigma_{Las}^{2}), P(L_{v}^{s}|C=2)= \\mathcal{N}(\\mu_{Lv},\\sigma_{Lvs}^{2}),\\\\ P(M_{a}^{s}|C=2)= \\mathcal{N}(\\mu_{Ma},\\sigma_{Mas}^{2}), P(M_{v}^{s}|C=2)= \\mathcal{N}(\\mu_{Mv},\\sigma_{Mvs}^{2})\\\\ P(c_{a}^{s}|C=2)= \\mathcal{N}(\\mu_{c_{a}},\\sigma_{cas}^{2}), P(c_{v}^{s}(t)|C=2)= \\mathcal{N}(\\mu_{c_{v}},\\sigma_{cvs}^{2})\n",
    "\\end{aligned}\n",
    "\\end{equation} \n",
    "\n",
    "The Likelihood of the stimuli given the observations is given by:\n",
    "\\begin{equation}\n",
    "\\begin{aligned}\n",
    "     \\mathcal{L}(L^{s}_{a},M^{s}_{a},c^{s}_{a},L^{s}_{v},M^{s}_{v},c^{s}_{v},C=2|a^{x}_{L^{x}_{a},M^{x}_{a}},v^{x}_{L^{x}_{v},M^{x}_{v}})=P({a^{x}_{L^{x}_{a},M^{x}_{a}},v^{x}_{L^{x}_{v},M^{x}_{v}}} | L^{s}_{a},M^{s}_{a},c^{s}_{a},L^{s}_{v},M^{s}_{v},c^{s}_{v},C=2)\n",
    "     = \\\\\\int_{-\\infty}^{\\infty} \\int_{-\\infty}^{\\infty}\\int_{-\\infty}^{\\infty} \\int_{-\\infty}^{\\infty}\n",
    "     dL^{x}_{a} dM^{x}_{a} \n",
    "     dL^{x}_{v} dM^{x}_{v}\n",
    "     P(L^{x}_{a} | L^{s}_{a},C=2) \n",
    "     P(M^{x}_{a} | M^{s}_{a},C=2)  P(L^{x}_{v} | L^{s}_{v},C=2) \n",
    "     P(M^{x}_{v} | M^{s}_{v},C=2) \\\\ P({a^{x}_{L^{x}_{a},M^{x}_{a}},v^{x}_{L^{x}_{v},M^{x}_{v}}} | L^{x}_{a},M^{x}_{a},c^{x}_{a},L^{x}_{v},M^{x}_{v},c^{x}_{v},C=2) =\\\\\n",
    "(l_{a},m_{a});\\delta(l_{a}-L^{x}_{a})\\delta(m_{a}-M^{x}_{a}) f^s_a(c^s),\\sigma^2_a)\\\\ \\prod_{l_{v}=1}^{n}\\prod_{m_{v}=1}^{n_m} N (v^{x}_{L^{x}_{v},M^{x}_{v}}(l_{v},m_{v});\\delta(l_{v}-L^{x}_{v})\\delta(m_{v}-M^{x}_{v}) f^s_a(c^s),\\sigma^2_v)\\\\\n",
    "     = \\sum_{L^{x}_{a}} \\sum_{M^{x}_{a}} \n",
    "     P(L^{x}_{a} | L^{s}_{a},C=2) \n",
    "     P(M^{x}_{a} | M^{s}_{a},C=2)  \\prod_{l_{a}=1}^{n}\\prod_{m_{a}=1}^{n_m}N (a^{x}_{L^{x}_{a},M^{x}_{a}}(l,m);\\delta(l_{a}-L^{x}_{a})\\delta(m_{a}-M^{x}_{a}) f^s_a(c^s),\\sigma^2_a)\\\\ \\sum_{L^{x}_{v}} \\sum_{M^{x}_{v}} P(L^{x}_{v} | L^{s}_{v},C=2) \n",
    "     P(M^{x}_{v} | M^{s}_{v},C=2)  \\prod_{l_{v}=1}^{n}\\prod_{m_{v}=1}^{n_m} N (v^{x}_{L^{x}_{v},M^{x}_{v}}(l_{v},m_{v});\\delta(l_{v}-L^{x}_{v})\\delta(m_{v}-M^{x}_{v}) f^s_a(c^s),\\sigma^2_v)\n",
    "\\end{aligned}\n",
    "\\end{equation}\n",
    "\n",
    "Together the prior and Likelihood give the information that is needed for the posterior:\n",
    "\\begin{equation}\n",
    "\\begin{aligned}  \n",
    "    P({C=2|a^{x}_{L^{x}_{a},M^{x}_{a}},v^{x}_{L^{x}_{v},M^{x}_{v}}})=\n",
    "    \\\\ P(C=2)\\cdot \\int \\int \\int P({a^{x}_{L^{x}_{a},M^{x}_{a}}} | L^{s}_{a}, M^{s}_{a}, c^{s}_{a}, C=2)\\cdot P( L^{s}_{a}|C=2) P(M^{s}_{a}|C=2) P(c^{s}_{a}|C=2) dL_{a}^{s} dM_{a}^{s} dc_{a}^{s} \\\\ \\int \\int \\int P(v^{x}_{L^{x}_{v},M^{x}_{v}}| L^{s}_{v}, M^{s}_{v}, c^{s}_{v},C=2) P( L^{s}_{v}|C=2) P(M^{s}_{v}|C=2) P(c^{s}_{v}|C=2) dL_{v}^{s} dM_{v}^{s} dc_{v}^{s}\\cdot \\frac{1}{P({a^{x}_{L^{x}_{a},M^{x}_{a}},v^{x}_{L^{x}_{v},M^{x}_{v}}})} \\\\\n",
    "    % P({C=2|a^{x}_{L^{x}_{a},M^{x}_{a}},v^{x}_{L^{x}_{v},M^{x}_{v}}})= \n",
    "    % \\\\ \\int \\int \\int \\int \\int \\int P({L^{s}_{a}, M^{s}_{a}, c^{s}_{a}, L^{s}_{v}, M^{s}_{v}, c^{s}_{v},C=2|a^{x}_{L^{x}_{a},M^{x}_{a}},v^{x}_{L^{x}_{v},M^{x}_{v}}})dL_{v}^{s} dM_{v}^{s} dc_{v}^{s} dL_{a}^{s} dM_{a}^{s} dc_{a}^{s} \n",
    "    % \\textnormal{For the case of C=1:} \\\\\n",
    "    % P(C=1|a^{x},v^{x})\\propto P(C=1) \\cdot P(a^{x}|C=1)\\cdot P(v^{x}|C=1)=P(C=1) \\cdot \\\\ \\int \\int  P(C=1,L_{av}^{s},M_{av}^{s}|a^{x};v^{x}) \\cdot \n",
    "    %  P(L_{av}^{s}|C=1) P(M_{av}^{s}|C=1) dL_{av}^{s} dM_{av}^{s} \\\\\n",
    "    % \\textnormal{For the case of C=2:} \\\\\n",
    "    % P(C=2|a^{x},v^{x})\\propto P(C=2) \\cdot P(a^{x}|C=2)\\cdot P(v^{x}|C=2)=P(C=2) \\cdot \\\\ \\int \\int \\int \\int P(C=2,L_{a}^{s},M_{a}^{s},L_{v}^{s},M_{v}^{s}|a^{x};v^{x}) \\cdot  P(L_{a}^{s}|C=2) \\cdot P(M_{a}^{s}|C=2) \\cdot  \\\\\n",
    "    % P(v^{x}|C=2,L_{v}^{s},M_{v}^{s},c_{v}^{s}) P(L_{v}^{s}|C=2) P(M_{v}^{s}|C=2) dL_{v}^{s} dM_{v}^{s} dL_{a}^{s} dM_{a}^{s} \\\\\n",
    "\\end{aligned}\n",
    "\\end{equation}\n",
    "\n",
    "The integrals that are needed to calculate the posterior cannot be solved analytically, therefore numerical methods are used."
   ]
  },
  {
   "cell_type": "code",
   "execution_count": null,
   "id": "5ea32ab8",
   "metadata": {},
   "outputs": [],
   "source": []
  }
 ],
 "metadata": {
  "kernelspec": {
   "display_name": "Python 3 (ipykernel)",
   "language": "python",
   "name": "python3"
  },
  "language_info": {
   "codemirror_mode": {
    "name": "ipython",
    "version": 3
   },
   "file_extension": ".py",
   "mimetype": "text/x-python",
   "name": "python",
   "nbconvert_exporter": "python",
   "pygments_lexer": "ipython3",
   "version": "3.10.9"
  }
 },
 "nbformat": 4,
 "nbformat_minor": 5
}
